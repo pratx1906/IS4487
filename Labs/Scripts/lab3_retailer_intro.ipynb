{
  "cells": [
    {
      "cell_type": "markdown",
      "metadata": {
        "id": "XBNyM8lcVgw6"
      },
      "source": [
        "# IS 4487 Lab 3\n",
        "\n",
        "## Outline\n",
        "\n",
        "Repeat exercises from Lab 2, but with the *SuperStore Retail Orders* dataset\n",
        "- Loading installed packages\n",
        "- Inspect data\n",
        "- Explore plot types\n",
        "\n",
        "<a href=\"https://colab.research.google.com/github/Stan-Pugsley/is_4487_base/blob/main/Labs/Scripts/lab3_retailer_intro.ipynb\" target=\"_parent\"><img src=\"https://colab.research.google.com/assets/colab-badge.svg\" alt=\"Open In Colab\"/></a>"
      ]
    },
    {
      "cell_type": "markdown",
      "metadata": {
        "id": "kEVYYs4wVgw9"
      },
      "source": [
        "## Load Libraries\n",
        "\n",
        "➡️ Assignment Tasks\n",
        "- Load any necessary libraries"
      ]
    },
    {
      "cell_type": "code",
      "execution_count": 1,
      "metadata": {
        "vscode": {
          "languageId": "plaintext"
        },
        "id": "pLYEOKZuVgw9"
      },
      "outputs": [],
      "source": [
        "import pandas as pd"
      ]
    },
    {
      "cell_type": "markdown",
      "metadata": {
        "id": "hey5xz_gVgw-"
      },
      "source": [
        "## Import Data into Dataframe\n",
        "\n",
        "➡️ Assignment Tasks\n",
        "- Import data from the SuperStore retail dataset into a dataframe (in GitHub go to Labs > DataSets)\n",
        "- Describe or profile the dataframe"
      ]
    },
    {
      "cell_type": "code",
      "execution_count": 3,
      "metadata": {
        "vscode": {
          "languageId": "plaintext"
        },
        "id": "jY8M7fwxVgw-",
        "outputId": "9260e50d-e7cc-4549-cbae-1558e2c339d4",
        "colab": {
          "base_uri": "https://localhost:8080/"
        }
      },
      "outputs": [
        {
          "output_type": "stream",
          "name": "stdout",
          "text": [
            "      customer_id      customer_name          address_line_1          city  \\\n",
            "0              67      Gordy Matteau     59 Northland Circle    Wilmington   \n",
            "1             201     Cort Paskerful         769 Buell Drive    Huntsville   \n",
            "2              45    Willetta Lumley       41 Ridgeway Alley        Irvine   \n",
            "3             106   Alison Batterton           489 Erie Hill      Richmond   \n",
            "4             357  Martelle Paxeford    451 Manitowish Place      Richmond   \n",
            "...           ...                ...                     ...           ...   \n",
            "9564          637  Jayson Andriessen  0819 Crownhardt Circle     Allentown   \n",
            "9565          370    Darby Tesseyman     7468 Jackson Circle        Albany   \n",
            "9566          598   Henka De Ferrari      89 Sunnyside Drive  Redwood City   \n",
            "9567          737    Tommie Penvarne    9630 Washington Hill     Watertown   \n",
            "9568          482       Matelda Bull      6406 Bultman Alley  Gaithersburg   \n",
            "\n",
            "      state_province  postal_code  order_id  order_date  customer_id.1  \\\n",
            "0                DE       19805.0      1001  2020-01-11             67   \n",
            "1                AL       35810.0      1002  2019-11-22            201   \n",
            "2                CA       92612.0      1003  2019-09-17             45   \n",
            "3                VA       23293.0      1004  2019-12-09            106   \n",
            "4                VA       23293.0      1005  2019-06-08            357   \n",
            "...              ...          ...       ...         ...            ...   \n",
            "9564  Pennsylvania            NaN      8143  2021-06-13            637   \n",
            "9565             NY       12210.0      8144  2021-06-16            370   \n",
            "9566     California       94064.0      8145  2021-05-09            598   \n",
            "9567  Massachusetts        2472.0      8146  2021-04-13            737   \n",
            "9568       Maryland       20883.0      8147  2021-03-21            482   \n",
            "\n",
            "      order_id.1  product_id  quantity  product_id.1            product_name  \\\n",
            "0           1001         106       3.0           106       Great value Juice   \n",
            "1           1002         104       2.0           104                    Desk   \n",
            "2           1003         107       5.0           107          Dove deodorant   \n",
            "3           1004         106       8.0           106       Great value Juice   \n",
            "4           1005         107       7.0           107          Dove deodorant   \n",
            "...          ...         ...       ...           ...                     ...   \n",
            "9564        8143         113      16.0           113          Extension cord   \n",
            "9565        8144         109       1.0           109  Samsung Galaxy Note 10   \n",
            "9566        8145         110       1.0           110         Apple iPad Mini   \n",
            "9567        8146         113       2.0           113          Extension cord   \n",
            "9568        8147         113       5.0           113          Extension cord   \n",
            "\n",
            "     product_price total_amount order_year_month order_month  \n",
            "0            $1.99        $5.97          2020-01    January   \n",
            "1           $85.98      $171.96          2019-11   November   \n",
            "2            $3.99       $19.95          2019-09   September  \n",
            "3            $1.99       $15.92          2019-12   December   \n",
            "4            $3.99       $27.93          2019-06       June   \n",
            "...            ...          ...              ...         ...  \n",
            "9564        $15.59      $249.44          2021-06       June   \n",
            "9565       $749.99      $749.99          2021-06       June   \n",
            "9566       $329.99      $329.99          2021-05        May   \n",
            "9567        $15.59       $31.18          2021-04      April   \n",
            "9568        $15.59       $77.95          2021-03      March   \n",
            "\n",
            "[9569 rows x 18 columns]\n"
          ]
        }
      ],
      "source": [
        "file_path = '/content/superstore_retail_orders.csv'\n",
        "\n",
        "df = pd.read_csv(file_path)\n",
        "print(df)"
      ]
    },
    {
      "cell_type": "markdown",
      "metadata": {
        "id": "0eXgv9NEVgw-"
      },
      "source": [
        "## Prepare Data\n",
        "\n",
        "➡️ Assignment Tasks\n",
        "- Convert the Total_Amount into a number (not a string)\n",
        "- Remove rows with empty (NULL) values\n",
        "- Optional: Locate outliers in any of the variables.   Filter them out if they are mistakes; keep them if they are exceptional cases."
      ]
    },
    {
      "cell_type": "code",
      "execution_count": 7,
      "metadata": {
        "vscode": {
          "languageId": "plaintext"
        },
        "id": "VEXnjJfvVgw_",
        "outputId": "99259399-15e4-42b6-9dde-06dfd9717c46",
        "colab": {
          "base_uri": "https://localhost:8080/"
        }
      },
      "outputs": [
        {
          "output_type": "stream",
          "name": "stdout",
          "text": [
            "      customer_id      customer_name        address_line_1          city  \\\n",
            "0              67      Gordy Matteau   59 Northland Circle    Wilmington   \n",
            "1             201     Cort Paskerful       769 Buell Drive    Huntsville   \n",
            "2              45    Willetta Lumley     41 Ridgeway Alley        Irvine   \n",
            "3             106   Alison Batterton         489 Erie Hill      Richmond   \n",
            "4             357  Martelle Paxeford  451 Manitowish Place      Richmond   \n",
            "...           ...                ...                   ...           ...   \n",
            "9561          240     Barnard Hatley        5541 Kim Alley        Duluth   \n",
            "9565          370    Darby Tesseyman   7468 Jackson Circle        Albany   \n",
            "9566          598   Henka De Ferrari    89 Sunnyside Drive  Redwood City   \n",
            "9567          737    Tommie Penvarne  9630 Washington Hill     Watertown   \n",
            "9568          482       Matelda Bull    6406 Bultman Alley  Gaithersburg   \n",
            "\n",
            "      state_province  postal_code  order_id  order_date  customer_id.1  \\\n",
            "0                DE       19805.0      1001  2020-01-11             67   \n",
            "1                AL       35810.0      1002  2019-11-22            201   \n",
            "2                CA       92612.0      1003  2019-09-17             45   \n",
            "3                VA       23293.0      1004  2019-12-09            106   \n",
            "4                VA       23293.0      1005  2019-06-08            357   \n",
            "...              ...          ...       ...         ...            ...   \n",
            "9561             GA       30195.0      8140  2021-03-04            240   \n",
            "9565             NY       12210.0      8144  2021-06-16            370   \n",
            "9566     California       94064.0      8145  2021-05-09            598   \n",
            "9567  Massachusetts        2472.0      8146  2021-04-13            737   \n",
            "9568       Maryland       20883.0      8147  2021-03-21            482   \n",
            "\n",
            "      order_id.1  product_id  quantity  product_id.1            product_name  \\\n",
            "0           1001         106       3.0           106       Great value Juice   \n",
            "1           1002         104       2.0           104                    Desk   \n",
            "2           1003         107       5.0           107          Dove deodorant   \n",
            "3           1004         106       8.0           106       Great value Juice   \n",
            "4           1005         107       7.0           107          Dove deodorant   \n",
            "...          ...         ...       ...           ...                     ...   \n",
            "9561        8140         110       1.0           110         Apple iPad Mini   \n",
            "9565        8144         109       1.0           109  Samsung Galaxy Note 10   \n",
            "9566        8145         110       1.0           110         Apple iPad Mini   \n",
            "9567        8146         113       2.0           113          Extension cord   \n",
            "9568        8147         113       5.0           113          Extension cord   \n",
            "\n",
            "     product_price  total_amount order_year_month order_month exception_case  \n",
            "0            $1.99          5.97          2020-01    January              No  \n",
            "1           $85.98        171.96          2019-11   November              No  \n",
            "2            $3.99         19.95          2019-09   September             No  \n",
            "3            $1.99         15.92          2019-12   December              No  \n",
            "4            $3.99         27.93          2019-06       June              No  \n",
            "...            ...           ...              ...         ...            ...  \n",
            "9561       $329.99        329.99          2021-03      March              No  \n",
            "9565       $749.99        749.99          2021-06       June              No  \n",
            "9566       $329.99        329.99          2021-05        May              No  \n",
            "9567        $15.59         31.18          2021-04      April              No  \n",
            "9568        $15.59         77.95          2021-03      March              No  \n",
            "\n",
            "[8981 rows x 19 columns]\n"
          ]
        },
        {
          "output_type": "stream",
          "name": "stderr",
          "text": [
            "<ipython-input-7-d60d82e5c49a>:1: FutureWarning: The default value of regex will change from True to False in a future version. In addition, single character regular expressions will *not* be treated as literal strings when regex=True.\n",
            "  df['total_amount'] = df['total_amount'].str.replace('$', '').str.replace(',', '').astype(float)\n",
            "<ipython-input-7-d60d82e5c49a>:14: SettingWithCopyWarning: \n",
            "A value is trying to be set on a copy of a slice from a DataFrame.\n",
            "Try using .loc[row_indexer,col_indexer] = value instead\n",
            "\n",
            "See the caveats in the documentation: https://pandas.pydata.org/pandas-docs/stable/user_guide/indexing.html#returning-a-view-versus-a-copy\n",
            "  df_clean['exception_case'] = ((df_clean['total_amount'] < lower_bound) | (df_clean['total_amount'] > upper_bound)).map({True: 'Yes', False: 'No'})\n"
          ]
        }
      ],
      "source": [
        "\n",
        "df['total_amount'] = df['total_amount'].str.replace('$', '').str.replace(',', '').astype(float)\n",
        "\n",
        "df_clean = df.dropna()\n",
        "\n",
        "# Identify outliers in 'total_amount' using the IQR method\n",
        "Q1 = df_clean['total_amount'].quantile(0.25)\n",
        "Q3 = df_clean['total_amount'].quantile(0.75)\n",
        "IQR = Q3 - Q1\n",
        "\n",
        "lower_bound = Q1 - 1.5 * IQR\n",
        "upper_bound = Q3 + 1.5 * IQR\n",
        "\n",
        "# Label rows as 'exception_case' based on 'total_amount' outliers\n",
        "df_clean['exception_case'] = ((df_clean['total_amount'] < lower_bound) | (df_clean['total_amount'] > upper_bound)).map({True: 'Yes', False: 'No'})\n",
        "\n",
        "print(df_clean)\n"
      ]
    },
    {
      "cell_type": "markdown",
      "metadata": {
        "id": "xrmCZE8oVgw_"
      },
      "source": [
        "## Summarize Data\n",
        "\n",
        "➡️ Assignment Tasks\n",
        "- Display the average price per month\n",
        "- Display the total revenue for all months"
      ]
    },
    {
      "cell_type": "code",
      "execution_count": 9,
      "metadata": {
        "vscode": {
          "languageId": "plaintext"
        },
        "id": "1SHFO2tYVgw_",
        "outputId": "a7829938-2299-49e3-b2a3-abbe6237b5ee",
        "colab": {
          "base_uri": "https://localhost:8080/"
        }
      },
      "outputs": [
        {
          "output_type": "stream",
          "name": "stdout",
          "text": [
            "   year_month  average_price\n",
            "0     2019-02     333.953246\n",
            "1     2019-03     352.787685\n",
            "2     2019-04     373.534547\n",
            "3     2019-05     355.372715\n",
            "4     2019-06     376.469287\n",
            "5     2019-07     322.063022\n",
            "6     2019-08     354.600616\n",
            "7     2019-09     351.974521\n",
            "8     2019-10     389.991144\n",
            "9     2019-11     327.683717\n",
            "10    2019-12     349.855582\n",
            "11    2020-01     318.572986\n",
            "12    2020-02     325.116699\n",
            "13    2020-03     275.390756\n",
            "14    2020-04     324.991925\n",
            "15    2020-05     317.188589\n",
            "16    2020-06     315.064662\n",
            "17    2020-07     324.183478\n",
            "18    2020-08     323.237616\n",
            "19    2020-09     345.142273\n",
            "20    2020-10     338.677797\n",
            "21    2020-11     346.379841\n",
            "22    2020-12     263.795280\n",
            "23    2021-01     293.924786\n",
            "24    2021-02     368.730000\n",
            "25    2021-03     279.360833\n",
            "26    2021-04     332.131429\n",
            "27    2021-05     226.770769\n",
            "28    2021-06     314.285455\n",
            "29    2021-07     197.840000\n",
            "30    2021-08     227.448333\n"
          ]
        },
        {
          "output_type": "stream",
          "name": "stderr",
          "text": [
            "<ipython-input-9-83d9c46d8cfa>:3: SettingWithCopyWarning: \n",
            "A value is trying to be set on a copy of a slice from a DataFrame.\n",
            "Try using .loc[row_indexer,col_indexer] = value instead\n",
            "\n",
            "See the caveats in the documentation: https://pandas.pydata.org/pandas-docs/stable/user_guide/indexing.html#returning-a-view-versus-a-copy\n",
            "  df_clean['order_date'] = pd.to_datetime(df_clean['order_date'])\n",
            "<ipython-input-9-83d9c46d8cfa>:6: SettingWithCopyWarning: \n",
            "A value is trying to be set on a copy of a slice from a DataFrame.\n",
            "Try using .loc[row_indexer,col_indexer] = value instead\n",
            "\n",
            "See the caveats in the documentation: https://pandas.pydata.org/pandas-docs/stable/user_guide/indexing.html#returning-a-view-versus-a-copy\n",
            "  df_clean['year_month'] = df_clean['order_date'].dt.to_period('M')\n"
          ]
        }
      ],
      "source": [
        "#average price\n",
        "# Convert 'order_date' to datetime\n",
        "df_clean['order_date'] = pd.to_datetime(df_clean['order_date'])\n",
        "\n",
        "# Extract year and month from 'order_date'\n",
        "df_clean['year_month'] = df_clean['order_date'].dt.to_period('M')\n",
        "\n",
        "# Display the average price per month\n",
        "average_price_per_month = df_clean.groupby('year_month')['total_amount'].mean().reset_index(name='average_price')\n",
        "print(average_price_per_month)"
      ]
    },
    {
      "cell_type": "code",
      "execution_count": 8,
      "metadata": {
        "vscode": {
          "languageId": "plaintext"
        },
        "id": "pimL9HqTVgxA",
        "outputId": "32cf35e9-94ff-4319-a680-b91dde1dc575",
        "colab": {
          "base_uri": "https://localhost:8080/"
        }
      },
      "outputs": [
        {
          "output_type": "stream",
          "name": "stdout",
          "text": [
            "$ 3089485.19\n"
          ]
        }
      ],
      "source": [
        "#total revenue\n",
        "total_revenue = df_clean['total_amount'].sum()\n",
        "print(\"$\", total_revenue)"
      ]
    }
  ],
  "metadata": {
    "language_info": {
      "name": "python"
    },
    "colab": {
      "provenance": []
    },
    "kernelspec": {
      "name": "python3",
      "display_name": "Python 3"
    }
  },
  "nbformat": 4,
  "nbformat_minor": 0
}